{
 "metadata": {
  "language_info": {
   "codemirror_mode": {
    "name": "ipython",
    "version": 3
   },
   "file_extension": ".py",
   "mimetype": "text/x-python",
   "name": "python",
   "nbconvert_exporter": "python",
   "pygments_lexer": "ipython3",
   "version": "3.8.5-final"
  },
  "orig_nbformat": 2,
  "kernelspec": {
   "name": "python38564bit9da3ad3269d548b28f69524ac05df613",
   "display_name": "Python 3.8.5 64-bit",
   "language": "python"
  }
 },
 "nbformat": 4,
 "nbformat_minor": 2,
 "cells": [
  {
   "source": [
    "Basic model\n",
    "===\n"
   ],
   "cell_type": "markdown",
   "metadata": {}
  },
  {
   "cell_type": "code",
   "execution_count": 20,
   "metadata": {},
   "outputs": [
    {
     "output_type": "stream",
     "name": "stdout",
     "text": [
      "[[14.   -3.3  15.4 ]\n [15.2  -3.5  16.66]\n [13.6  -5.4  14.68]]\n[[ 32.78  -33.19   54.2  ]\n [ 35.322 -35.95   58.5  ]\n [ 35.756 -32.62   56.2  ]]\n"
     ]
    }
   ],
   "source": [
    "import numpy as np\n",
    "inputs = [[0,1,2,3]\n",
    "        ,[1,0,2.5,3.4]\n",
    "        ,[0,-1,2.5,3.2]\n",
    "        # 4x3 input \n",
    "        # 4 parameters\n",
    "        # 3 series\n",
    "]\n",
    "weights = [\n",
    "    [0,1,2,3],\n",
    "    [1.2,1.3,2.2,-3],\n",
    "    [0.1,1.2,2,3.4],\n",
    "]\n",
    "bias = [0.5,2,1,0.7]\n",
    "\n",
    "weights2 = [\n",
    "    [0,-2,1.7],\n",
    "    [-1.2,0.3,-1],\n",
    "    [0.1,-2,3],\n",
    "]\n",
    "bias2 = [0.5,-0.2,1]\n",
    "\n",
    "output = np.dot( inputs,np.array(weights).T)\n",
    "print(output)\n",
    "output = np.dot( output,np.array(weights2).T)\n",
    "print(output)"
   ]
  },
  {
   "cell_type": "code",
   "execution_count": 21,
   "metadata": {},
   "outputs": [
    {
     "output_type": "execute_result",
     "data": {
      "text/plain": [
       "array([[ 0. , -1.2,  0.1],\n",
       "       [-2. ,  0.3, -2. ],\n",
       "       [ 1.7, -1. ,  3. ]])"
      ]
     },
     "metadata": {},
     "execution_count": 21
    }
   ],
   "source": [
    "np.array(weights2).T"
   ]
  },
  {
   "cell_type": "code",
   "execution_count": 22,
   "metadata": {},
   "outputs": [
    {
     "output_type": "execute_result",
     "data": {
      "text/plain": [
       "array([[ 0. , -2. ,  1.7],\n",
       "       [-1.2,  0.3, -1. ],\n",
       "       [ 0.1, -2. ,  3. ]])"
      ]
     },
     "metadata": {},
     "execution_count": 22
    }
   ],
   "source": [
    "np.array(weights2)"
   ]
  },
  {
   "cell_type": "code",
   "execution_count": null,
   "metadata": {},
   "outputs": [],
   "source": []
  }
 ]
}