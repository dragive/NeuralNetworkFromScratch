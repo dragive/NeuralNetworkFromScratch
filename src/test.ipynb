{
 "cells": [
  {
   "cell_type": "code",
   "execution_count": 63,
   "metadata": {},
   "outputs": [],
   "source": [
    "import numpy as np\n",
    "\n",
    "class ActivationFunctions:\n",
    "        \n",
    "    def ReLu(data):\n",
    "        temp = np.array(data)\n",
    "        return np.maximum(0,temp)\n",
    "        \n",
    "    def Sign(data):\n",
    "        temp = np.array(data)\n",
    "        return np.sign(temp)\n",
    "            \n",
    "    def Sigmoid(data):\n",
    "        temp = np.array(data)\n",
    "        return 1/(1+np.exp(-temp))\n",
    "    def Default(data):\n",
    "        temp = np.array(data)\n",
    "        return temp\n",
    "    def SoftMax(data):\n",
    "        temp = np.exp(np.array(data))\n",
    "        return temp/np.sum(temp)\n",
    "    \n",
    "class LossFunctions:\n",
    "    \n",
    "    def RMSE(estimator,goal):\n",
    "#         assert isinstance(estimator,np.array)\n",
    "#         assert isinstance(goal,np.array)\n",
    "#         print(estimator.shape, goal.shape)\n",
    "#         assert estimator.shape == goal.shape\n",
    "#         assert estimator.shape[0] == 1 or estimator.shape[1] ==1\n",
    "        estimator = np.array(estimator)\n",
    "        goal = np.array(goal)\n",
    "        \n",
    "        return np.sum([i*i for i in (estimator-goal)])/len(np.max([estimator.shape[0] ,estimator.shape[1]]))\n",
    "    def AE(estimator,goal):\n",
    "        return (estimator-goal)*(estimator-goal)\n",
    "        \n",
    "\n",
    "class Layer:\n",
    "    \n",
    "    def __init__(self,shape,function=ActivationFunctions.Default) -> None:\n",
    "        assert len(shape)==2\n",
    "        assert isinstance(shape[0],int) and isinstance(shape[1],int)\n",
    "        assert shape[0]>0 and shape[1]>0\n",
    "        self.function=function\n",
    "        self.shape = shape\n",
    "\n",
    "        self._init_matrix()\n",
    "        self.output=None\n",
    "\n",
    "    def __init__(self,shape_x:int,shape_y:int,function=ActivationFunctions.Default) -> None:\n",
    "        assert shape_y>0 and shape_x>0\n",
    "\n",
    "        self.shape = (shape_x,shape_y)\n",
    "        self.function=function\n",
    "        self._init_matrix()\n",
    "        self.output=None\n",
    "\n",
    "    def _init_matrix(self):\n",
    "        self.martix = np.random.randn(self.shape[0],self.shape[1])\n",
    "        self.bias=np.random.randn(1,self.shape[1])\n",
    "\n",
    "\n",
    "    def forward(self,data,function=ActivationFunctions.Default):\n",
    "        \n",
    "        if function in [None,ActivationFunctions.Default]:\n",
    "            function = self.function\n",
    "        if function == None:\n",
    "            self.output=np.dot(data,self.martix)-self.bias\n",
    "            return self.output\n",
    "        else:\n",
    "            self.output = function(np.dot(data,self.martix)-self.bias)\n",
    "            return self.output\n",
    "    "
   ]
  },
  {
   "cell_type": "code",
   "execution_count": 64,
   "metadata": {},
   "outputs": [],
   "source": [
    "class Model:\n",
    "\n",
    "    def __init__(self):\n",
    "        self.layers=[]\n",
    "        self.structure=[]\n",
    "        self.learningFactor=0.02 # TODO implementation\n",
    "        self.dataset={}\n",
    "        self.loss_v=None\n",
    "    def addLayer(self,numberOfNeurons:int,function=ActivationFunctions.Default):\n",
    "        assert numberOfNeurons>0\n",
    "        # TODO to validate function\n",
    "        self.layers.append((numberOfNeurons,function))\n",
    "        \n",
    "    def compileModel(self):\n",
    "        assert len(self.layers)>=2\n",
    "        \n",
    "        for i in range(len(self.layers)-1):\n",
    "            self.structure.append(Layer(self.layers[i][0],self.layers[i+1][0],self.layers[i+1][1]))\n",
    "            \n",
    "    def forward(self,data):\n",
    "        assert len(self.structure)>=2\n",
    "        output = None\n",
    "        for i in self.structure:\n",
    "            output = i.forward(output)\n",
    "        return output\n",
    "    \n",
    "    def upload_test_dataset(self,data): #TODO add validation\n",
    "        self.dataset['test'] = data\n",
    "        \n",
    "    def upload_train_dataset(self,data): #TODO add validation\n",
    "        self.dataset['train'] = data\n",
    "    \n",
    "    def loss(self,goal,function=LossFunctions.RMSE):\n",
    "        return function(self.structure[-1].output,goal)\n",
    "    \n",
    "    def train(self):\n",
    "        for x,y in zip(self.dataset['train']['egzo'],self.dataset['train']['endo']):\n",
    "            out = x\n",
    "            for l in self.structure:\n",
    "                out = l.forward(out)\n",
    "            self.loss_v=self.loss(y,LossFunctions.AE)\n",
    "            "
   ]
  },
  {
   "cell_type": "code",
   "execution_count": 68,
   "metadata": {},
   "outputs": [
    {
     "data": {
      "text/plain": [
       "array([[0.73084789]])"
      ]
     },
     "execution_count": 68,
     "metadata": {},
     "output_type": "execute_result"
    }
   ],
   "source": [
    "model =Model()\n",
    "model.addLayer(5,ActivationFunctions.Sigmoid)\n",
    "model.addLayer(5,ActivationFunctions.Sigmoid)\n",
    "model.addLayer(1,ActivationFunctions.Sigmoid)\n",
    "\n",
    "model.compileModel()\n",
    "train_dataset= {\n",
    "    'egzo':np.random.randn(10,5),\n",
    "    'endo':np.random.randn(10,1)\n",
    "}\n",
    "#print(train_dataset)\n",
    "model.upload_train_dataset(train_dataset)\n",
    "# for i in range(len(model.structure)):\n",
    "#     print(model.structure[i].shape,end=f\" {model.structure[i].function}\\n \")\n",
    "#model.forward(np.array([1,2,3,4,5]))\n",
    "model.train()\n",
    "model.loss_v"
   ]
  },
  {
   "cell_type": "code",
   "execution_count": 67,
   "metadata": {},
   "outputs": [
    {
     "ename": "TypeError",
     "evalue": "Sign() missing 1 required positional argument: 'data'",
     "output_type": "error",
     "traceback": [
      "\u001b[0;31m---------------------------------------------------------------------------\u001b[0m",
      "\u001b[0;31mTypeError\u001b[0m                                 Traceback (most recent call last)",
      "\u001b[0;32m<ipython-input-67-624b63150e84>\u001b[0m in \u001b[0;36m<module>\u001b[0;34m\u001b[0m\n\u001b[0;32m----> 1\u001b[0;31m \u001b[0mActivationFunctions\u001b[0m\u001b[0;34m.\u001b[0m\u001b[0mSign\u001b[0m\u001b[0;34m(\u001b[0m\u001b[0;34m)\u001b[0m\u001b[0;34m\u001b[0m\u001b[0;34m\u001b[0m\u001b[0m\n\u001b[0m",
      "\u001b[0;31mTypeError\u001b[0m: Sign() missing 1 required positional argument: 'data'"
     ]
    }
   ],
   "source": [
    "ActivationFunctions.Sign()"
   ]
  },
  {
   "cell_type": "code",
   "execution_count": 42,
   "metadata": {},
   "outputs": [
    {
     "data": {
      "text/plain": [
       "1.0000000000000002"
      ]
     },
     "execution_count": 42,
     "metadata": {},
     "output_type": "execute_result"
    }
   ],
   "source": [
    "ActivationFunctions.SoftMax(np.linspace(-1,1,100))"
   ]
  },
  {
   "cell_type": "code",
   "execution_count": null,
   "metadata": {},
   "outputs": [],
   "source": []
  },
  {
   "cell_type": "code",
   "execution_count": null,
   "metadata": {},
   "outputs": [],
   "source": []
  },
  {
   "cell_type": "markdown",
   "metadata": {},
   "source": [
    "\n",
    "Taka jest docelowa funckja LOSS czyli taka którą minimalizujemy.\n",
    "\n",
    "```1```- indidator function https://www.wikiwand.com/en/Indicator_function\n",
    "\n",
    "```i``` iteruje sie po obserwacjach\n",
    "\n",
    "```c``` iteruje sie po klasach\n",
    "\n",
    "$p_{model} [y_i \\in C_c ]$ prawdopodobieństwo, że obserwacja i należy do klasy c\n",
    "\n",
    "$-1/N*\\Sigma_{i=1} ^N \\Sigma_{c=1} ^C 1_{y_{i} \\in C_{c}} log(p_{model}[y_i \\in C_{c}]) $"
   ]
  },
  {
   "cell_type": "code",
   "execution_count": null,
   "metadata": {},
   "outputs": [],
   "source": []
  }
 ],
 "metadata": {
  "kernelspec": {
   "display_name": "Python 3.8.5 64-bit",
   "language": "python",
   "name": "python385jvsc74a57bd0916dbcbb3f70747c44a77c7bcd40155683ae19c65e1c03b4aa3499c5328201f1"
  },
  "language_info": {
   "codemirror_mode": {
    "name": "ipython",
    "version": 3
   },
   "file_extension": ".py",
   "mimetype": "text/x-python",
   "name": "python",
   "nbconvert_exporter": "python",
   "pygments_lexer": "ipython3",
   "version": "3.8.5"
  },
  "metadata": {
   "interpreter": {
    "hash": "31f2aee4e71d21fbe5cf8b01ff0e069b9275f58929596ceb00d14d90e3e16cd6"
   }
  }
 },
 "nbformat": 4,
 "nbformat_minor": 2
}
